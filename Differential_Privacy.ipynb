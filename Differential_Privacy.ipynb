{
  "nbformat": 4,
  "nbformat_minor": 0,
  "metadata": {
    "colab": {
      "name": "Differential Privacy.ipynb",
      "version": "0.3.2",
      "provenance": [],
      "collapsed_sections": [],
      "include_colab_link": true
    },
    "kernelspec": {
      "name": "python3",
      "display_name": "Python 3"
    }
  },
  "cells": [
    {
      "cell_type": "markdown",
      "metadata": {
        "id": "view-in-github",
        "colab_type": "text"
      },
      "source": [
        "<a href=\"https://colab.research.google.com/github/sylvia31096/Secure-and-Private-AI/blob/master/Differential_Privacy.ipynb\" target=\"_parent\"><img src=\"https://colab.research.google.com/assets/colab-badge.svg\" alt=\"Open In Colab\"/></a>"
      ]
    },
    {
      "cell_type": "markdown",
      "metadata": {
        "id": "ryrrXpXX1Rwp",
        "colab_type": "text"
      },
      "source": [
        "Creating my own private database"
      ]
    },
    {
      "cell_type": "code",
      "metadata": {
        "id": "lO974sHSatal",
        "colab_type": "code",
        "colab": {}
      },
      "source": [
        "import torch"
      ],
      "execution_count": 0,
      "outputs": []
    },
    {
      "cell_type": "code",
      "metadata": {
        "id": "sxZF6LsIbQ3d",
        "colab_type": "code",
        "colab": {}
      },
      "source": [
        "num_records = 5000 #number of 5000 records"
      ],
      "execution_count": 0,
      "outputs": []
    },
    {
      "cell_type": "markdown",
      "metadata": {
        "id": "bOAV5opaamdE",
        "colab_type": "text"
      },
      "source": [
        "Create a function to create the database and parallel databases"
      ]
    },
    {
      "cell_type": "code",
      "metadata": {
        "id": "WEfHQOTC3FqJ",
        "colab_type": "code",
        "colab": {}
      },
      "source": [
        " def get_parallelDB(db,removable_index):\n",
        "\n",
        "    return torch.cat((db[0:removable_index],db[removable_index+1:]))"
      ],
      "execution_count": 0,
      "outputs": []
    },
    {
      "cell_type": "markdown",
      "metadata": {
        "id": "HapW8OPl3SJi",
        "colab_type": "text"
      },
      "source": [
        "Create function to make a parallel database"
      ]
    },
    {
      "cell_type": "code",
      "metadata": {
        "id": "2nkpIPCY3F6b",
        "colab_type": "code",
        "colab": {}
      },
      "source": [
        "def get_parallelDBs(db):\n",
        "\n",
        "    parallelDBs = []\n",
        "    for i in range(len(db)):\n",
        "      parallelDB = get_parallelDB(db,i)\n",
        "      parallelDBs.append(parallelDB)\n",
        "\n",
        "\n",
        "    return parallelDBs"
      ],
      "execution_count": 0,
      "outputs": []
    },
    {
      "cell_type": "code",
      "metadata": {
        "id": "hUwh69BhfUvD",
        "colab_type": "code",
        "colab": {}
      },
      "source": [
        "def create_db_and_parallels(num_records):\n",
        "  db = torch.rand(num_records)>0.5\n",
        "  parallelDBs =  get_parallelDBs(db)\n",
        "  \n",
        "  return db,parallelDBs"
      ],
      "execution_count": 0,
      "outputs": []
    },
    {
      "cell_type": "markdown",
      "metadata": {
        "id": "_sGAJ8VX0TUy",
        "colab_type": "text"
      },
      "source": [
        "## Evaluating differential privacy"
      ]
    },
    {
      "cell_type": "markdown",
      "metadata": {
        "id": "U25L0nAb2_I4",
        "colab_type": "text"
      },
      "source": [
        "Getting sensitivty"
      ]
    },
    {
      "cell_type": "code",
      "metadata": {
        "id": "01oBy_E90hRR",
        "colab_type": "code",
        "colab": {}
      },
      "source": [
        "db, pdbs = create_db_and_parallels(5000)"
      ],
      "execution_count": 0,
      "outputs": []
    },
    {
      "cell_type": "code",
      "metadata": {
        "id": "NFvaqNt81E1E",
        "colab_type": "code",
        "colab": {}
      },
      "source": [
        "def query_mean(db):\n",
        "    return db.float().mean()"
      ],
      "execution_count": 0,
      "outputs": []
    },
    {
      "cell_type": "code",
      "metadata": {
        "id": "pYc53Rt21HX6",
        "colab_type": "code",
        "colab": {}
      },
      "source": [
        "full_db_result = query(db)"
      ],
      "execution_count": 0,
      "outputs": []
    },
    {
      "cell_type": "code",
      "metadata": {
        "id": "V4_TVjmj1MM8",
        "colab_type": "code",
        "colab": {}
      },
      "source": [
        "sensitivity = 0\n",
        "for pdb in pdbs:\n",
        "    pdb_result = query(pdb)\n",
        "    \n",
        "    db_distance = torch.abs(pdb_result - full_db_result)\n",
        "    \n",
        "    if(db_distance > sensitivity):\n",
        "        sensitivity = db_distance"
      ],
      "execution_count": 0,
      "outputs": []
    },
    {
      "cell_type": "code",
      "metadata": {
        "id": "FPpqCJQ_26AB",
        "colab_type": "code",
        "outputId": "47593a96-180c-48ae-f496-219c39c7e0da",
        "colab": {
          "base_uri": "https://localhost:8080/",
          "height": 34
        }
      },
      "source": [
        "sensitivity"
      ],
      "execution_count": 10,
      "outputs": [
        {
          "output_type": "execute_result",
          "data": {
            "text/plain": [
              "tensor(0.0001)"
            ]
          },
          "metadata": {
            "tags": []
          },
          "execution_count": 10
        }
      ]
    },
    {
      "cell_type": "markdown",
      "metadata": {
        "id": "QvGGK9_p3k7w",
        "colab_type": "text"
      },
      "source": [
        "Sensitivity function"
      ]
    },
    {
      "cell_type": "code",
      "metadata": {
        "id": "s1Zs4CAp3qHf",
        "colab_type": "code",
        "colab": {}
      },
      "source": [
        "def sensitivity(query,n_entries):\n",
        "    db, pdbs = create_db_and_parallels(n_entries)\n",
        "    \n",
        "    full_db_result = query(db)\n",
        "    \n",
        "    \n",
        "    max_distance = 0\n",
        "    for pdb in pdbs:\n",
        "        pdb_result = query(pdb)\n",
        "\n",
        "        db_distance = torch.abs(pdb_result - full_db_result)\n",
        "\n",
        "        if(db_distance > max_distance):\n",
        "            max_distance = db_distance\n",
        "    return max_distance"
      ],
      "execution_count": 0,
      "outputs": []
    },
    {
      "cell_type": "code",
      "metadata": {
        "id": "IwYjxSDT7rhC",
        "colab_type": "code",
        "colab": {}
      },
      "source": [
        "def query_threshold(db,threshold=5):\n",
        "  return (db.sum()>threshold).float()\n",
        "\n",
        "\n",
        "def query_sum(db):\n",
        "  return db.float().sum()"
      ],
      "execution_count": 0,
      "outputs": []
    },
    {
      "cell_type": "code",
      "metadata": {
        "id": "jEvFGJWs4NQX",
        "colab_type": "code",
        "outputId": "80fdb050-7d98-4aea-b6dd-0ad4cb79fc98",
        "colab": {
          "base_uri": "https://localhost:8080/",
          "height": 34
        }
      },
      "source": [
        "sensitivity(query,5000)"
      ],
      "execution_count": 13,
      "outputs": [
        {
          "output_type": "execute_result",
          "data": {
            "text/plain": [
              "0"
            ]
          },
          "metadata": {
            "tags": []
          },
          "execution_count": 13
        }
      ]
    },
    {
      "cell_type": "code",
      "metadata": {
        "id": "Hr1qB7va7Dzd",
        "colab_type": "code",
        "outputId": "ef441bb5-b05c-443a-e003-56aa1317bccb",
        "colab": {
          "base_uri": "https://localhost:8080/",
          "height": 194
        }
      },
      "source": [
        "for i in range (10):\n",
        "  print(sensitivity(query,10))"
      ],
      "execution_count": 14,
      "outputs": [
        {
          "output_type": "stream",
          "text": [
            "tensor(1.)\n",
            "0\n",
            "0\n",
            "tensor(1.)\n",
            "0\n",
            "0\n",
            "0\n",
            "0\n",
            "tensor(1.)\n",
            "0\n"
          ],
          "name": "stdout"
        }
      ]
    },
    {
      "cell_type": "markdown",
      "metadata": {
        "id": "htoRQUu_P5Kw",
        "colab_type": "text"
      },
      "source": [
        "### Performing a diffferentiation attack"
      ]
    },
    {
      "cell_type": "markdown",
      "metadata": {
        "id": "WUh6lTvEQEKd",
        "colab_type": "text"
      },
      "source": [
        "To do so:\n",
        "1. query the database \n",
        "2. query database without John Doe"
      ]
    },
    {
      "cell_type": "code",
      "metadata": {
        "id": "RKkBevPQQcdz",
        "colab_type": "code",
        "colab": {}
      },
      "source": [
        "db,without_john_doe = create_db_and_parallels(100)"
      ],
      "execution_count": 0,
      "outputs": []
    },
    {
      "cell_type": "markdown",
      "metadata": {
        "id": "SnmXRwKHTWf8",
        "colab_type": "text"
      },
      "source": [
        "Let's query using sum"
      ]
    },
    {
      "cell_type": "code",
      "metadata": {
        "id": "fumpI_ybTU9E",
        "colab_type": "code",
        "colab": {
          "base_uri": "https://localhost:8080/",
          "height": 34
        },
        "outputId": "1ef8f040-e2d0-4e65-b671-67689840fbbc"
      },
      "source": [
        "query_sum(db)"
      ],
      "execution_count": 21,
      "outputs": [
        {
          "output_type": "execute_result",
          "data": {
            "text/plain": [
              "tensor(53.)"
            ]
          },
          "metadata": {
            "tags": []
          },
          "execution_count": 21
        }
      ]
    },
    {
      "cell_type": "code",
      "metadata": {
        "id": "kbxnAQmFUnGG",
        "colab_type": "code",
        "colab": {
          "base_uri": "https://localhost:8080/",
          "height": 34
        },
        "outputId": "1984db4c-c8b4-4bcf-d09a-c56cba8b5899"
      },
      "source": [
        "query_sum(without_john_doe[10])"
      ],
      "execution_count": 22,
      "outputs": [
        {
          "output_type": "execute_result",
          "data": {
            "text/plain": [
              "tensor(53.)"
            ]
          },
          "metadata": {
            "tags": []
          },
          "execution_count": 22
        }
      ]
    },
    {
      "cell_type": "markdown",
      "metadata": {
        "id": "GmZgTI2VUtkB",
        "colab_type": "text"
      },
      "source": [
        "Its 0"
      ]
    },
    {
      "cell_type": "markdown",
      "metadata": {
        "id": "MRhsXTMAU6Z3",
        "colab_type": "text"
      },
      "source": [
        "Let's query using mean"
      ]
    },
    {
      "cell_type": "code",
      "metadata": {
        "colab_type": "code",
        "outputId": "88f66180-f82c-4e0e-ca31-413743fa9f93",
        "id": "hGG8C5oZU215",
        "colab": {
          "base_uri": "https://localhost:8080/",
          "height": 34
        }
      },
      "source": [
        "query_mean(db)"
      ],
      "execution_count": 25,
      "outputs": [
        {
          "output_type": "execute_result",
          "data": {
            "text/plain": [
              "tensor(0.5300)"
            ]
          },
          "metadata": {
            "tags": []
          },
          "execution_count": 25
        }
      ]
    },
    {
      "cell_type": "code",
      "metadata": {
        "colab_type": "code",
        "outputId": "9c0ad27a-bfd8-4d09-ba04-27ec555e660b",
        "id": "zqemneNOU21_",
        "colab": {
          "base_uri": "https://localhost:8080/",
          "height": 34
        }
      },
      "source": [
        "query_mean(without_john_doe[10])"
      ],
      "execution_count": 26,
      "outputs": [
        {
          "output_type": "execute_result",
          "data": {
            "text/plain": [
              "tensor(0.5354)"
            ]
          },
          "metadata": {
            "tags": []
          },
          "execution_count": 26
        }
      ]
    },
    {
      "cell_type": "markdown",
      "metadata": {
        "colab_type": "text",
        "id": "iOIIiYiQU22D"
      },
      "source": [
        "Its 0"
      ]
    },
    {
      "cell_type": "markdown",
      "metadata": {
        "colab_type": "text",
        "id": "ahxOhcd-VTNL"
      },
      "source": [
        "Let's query using L1"
      ]
    },
    {
      "cell_type": "code",
      "metadata": {
        "colab_type": "code",
        "outputId": "740b2e76-8676-4d8e-e0e1-6d4cbc1a30c8",
        "id": "G0COcRz-VTNP",
        "colab": {
          "base_uri": "https://localhost:8080/",
          "height": 34
        }
      },
      "source": [
        "query_threshold(db)"
      ],
      "execution_count": 27,
      "outputs": [
        {
          "output_type": "execute_result",
          "data": {
            "text/plain": [
              "tensor(1.)"
            ]
          },
          "metadata": {
            "tags": []
          },
          "execution_count": 27
        }
      ]
    },
    {
      "cell_type": "code",
      "metadata": {
        "colab_type": "code",
        "outputId": "482e70da-282e-4db0-811e-d7a573bbbd95",
        "id": "1gBxHaP1VTNT",
        "colab": {
          "base_uri": "https://localhost:8080/",
          "height": 34
        }
      },
      "source": [
        "query_threshold(without_john_doe[10])"
      ],
      "execution_count": 28,
      "outputs": [
        {
          "output_type": "execute_result",
          "data": {
            "text/plain": [
              "tensor(1.)"
            ]
          },
          "metadata": {
            "tags": []
          },
          "execution_count": 28
        }
      ]
    },
    {
      "cell_type": "markdown",
      "metadata": {
        "colab_type": "text",
        "id": "UE7t7kGNVTNh"
      },
      "source": [
        "Not sure"
      ]
    }
  ]
}
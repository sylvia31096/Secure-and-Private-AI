{
  "nbformat": 4,
  "nbformat_minor": 0,
  "metadata": {
    "colab": {
      "name": "Differential Privacy.ipynb",
      "version": "0.3.2",
      "provenance": [],
      "collapsed_sections": [],
      "include_colab_link": true
    },
    "kernelspec": {
      "name": "python3",
      "display_name": "Python 3"
    }
  },
  "cells": [
    {
      "cell_type": "markdown",
      "metadata": {
        "id": "view-in-github",
        "colab_type": "text"
      },
      "source": [
        "<a href=\"https://colab.research.google.com/github/sylvia31096/Secure-and-Private-AI/blob/master/Differential_Privacy.ipynb\" target=\"_parent\"><img src=\"https://colab.research.google.com/assets/colab-badge.svg\" alt=\"Open In Colab\"/></a>"
      ]
    },
    {
      "cell_type": "code",
      "metadata": {
        "id": "lO974sHSatal",
        "colab_type": "code",
        "colab": {}
      },
      "source": [
        "import torch"
      ],
      "execution_count": 0,
      "outputs": []
    },
    {
      "cell_type": "markdown",
      "metadata": {
        "id": "GEOp5XkQfKcE",
        "colab_type": "text"
      },
      "source": [
        "### Private dataset"
      ]
    },
    {
      "cell_type": "markdown",
      "metadata": {
        "id": "ryrrXpXX1Rwp",
        "colab_type": "text"
      },
      "source": [
        "Creating my own private database. Each record represent a different person with a value of 1 or 0"
      ]
    },
    {
      "cell_type": "code",
      "metadata": {
        "id": "sxZF6LsIbQ3d",
        "colab_type": "code",
        "colab": {}
      },
      "source": [
        "num_records = 5000 #number of 5000 records"
      ],
      "execution_count": 0,
      "outputs": []
    },
    {
      "cell_type": "markdown",
      "metadata": {
        "id": "d7lk_vWafcai",
        "colab_type": "text"
      },
      "source": [
        "For every person we will get a database without them"
      ]
    },
    {
      "cell_type": "markdown",
      "metadata": {
        "id": "bOAV5opaamdE",
        "colab_type": "text"
      },
      "source": [
        "Create a function to create the database and parallel databases"
      ]
    },
    {
      "cell_type": "code",
      "metadata": {
        "id": "WEfHQOTC3FqJ",
        "colab_type": "code",
        "colab": {}
      },
      "source": [
        " def get_parallelDB(db,removable_index):\n",
        "\n",
        "    return torch.cat((db[0:removable_index],db[removable_index+1:]))"
      ],
      "execution_count": 0,
      "outputs": []
    },
    {
      "cell_type": "markdown",
      "metadata": {
        "id": "HapW8OPl3SJi",
        "colab_type": "text"
      },
      "source": [
        "Create function to make a parallel database"
      ]
    },
    {
      "cell_type": "code",
      "metadata": {
        "id": "2nkpIPCY3F6b",
        "colab_type": "code",
        "colab": {}
      },
      "source": [
        "def get_parallelDBs(db):\n",
        "\n",
        "    parallelDBs = []\n",
        "    for i in range(len(db)):\n",
        "      parallelDB = get_parallelDB(db,i)\n",
        "      parallelDBs.append(parallelDB)\n",
        "\n",
        "\n",
        "    return parallelDBs"
      ],
      "execution_count": 0,
      "outputs": []
    },
    {
      "cell_type": "markdown",
      "metadata": {
        "id": "XMRo1D69fvJZ",
        "colab_type": "text"
      },
      "source": [
        "Create function that creates both a database and it's parallel database"
      ]
    },
    {
      "cell_type": "code",
      "metadata": {
        "id": "hUwh69BhfUvD",
        "colab_type": "code",
        "colab": {}
      },
      "source": [
        "def create_db_and_parallels(num_records):\n",
        "  db = torch.rand(num_records)>0.5\n",
        "  parallelDBs =  get_parallelDBs(db)\n",
        "  \n",
        "  return db,parallelDBs"
      ],
      "execution_count": 0,
      "outputs": []
    },
    {
      "cell_type": "markdown",
      "metadata": {
        "id": "_sGAJ8VX0TUy",
        "colab_type": "text"
      },
      "source": [
        "## Evaluating differential privacy"
      ]
    },
    {
      "cell_type": "markdown",
      "metadata": {
        "id": "U25L0nAb2_I4",
        "colab_type": "text"
      },
      "source": [
        "\n",
        "Getting sensitivty : The change when a single record is removed"
      ]
    },
    {
      "cell_type": "markdown",
      "metadata": {
        "id": "NsbMdgjYgYN_",
        "colab_type": "text"
      },
      "source": [
        "Create the databases and their parallel databases"
      ]
    },
    {
      "cell_type": "code",
      "metadata": {
        "id": "01oBy_E90hRR",
        "colab_type": "code",
        "colab": {}
      },
      "source": [
        "db, pdbs = create_db_and_parallels(5000)"
      ],
      "execution_count": 0,
      "outputs": []
    },
    {
      "cell_type": "markdown",
      "metadata": {
        "id": "16Q3ussKgj7j",
        "colab_type": "text"
      },
      "source": [
        "Create query function"
      ]
    },
    {
      "cell_type": "code",
      "metadata": {
        "id": "NFvaqNt81E1E",
        "colab_type": "code",
        "colab": {}
      },
      "source": [
        "#query mean of database\n",
        "def query_mean(db):\n",
        "    return db.float().mean()"
      ],
      "execution_count": 0,
      "outputs": []
    },
    {
      "cell_type": "code",
      "metadata": {
        "id": "V0acka14gySg",
        "colab_type": "code",
        "colab": {}
      },
      "source": [
        "#uery records that reach threshold\n",
        "def query_threshold(db,threshold=5):\n",
        "  return (db.sum()>threshold).float()\n"
      ],
      "execution_count": 0,
      "outputs": []
    },
    {
      "cell_type": "code",
      "metadata": {
        "id": "IwYjxSDT7rhC",
        "colab_type": "code",
        "colab": {}
      },
      "source": [
        "#query mean of database records\n",
        "def query_sum(db):\n",
        "  return db.float().sum()"
      ],
      "execution_count": 0,
      "outputs": []
    },
    {
      "cell_type": "code",
      "metadata": {
        "id": "pYc53Rt21HX6",
        "colab_type": "code",
        "colab": {}
      },
      "source": [
        "full_db_result = query_sum(db)"
      ],
      "execution_count": 0,
      "outputs": []
    },
    {
      "cell_type": "markdown",
      "metadata": {
        "id": "uULlMashhEsA",
        "colab_type": "text"
      },
      "source": [
        "Sensitivity function that gets the sensitivity given a query function and number of records"
      ]
    },
    {
      "cell_type": "code",
      "metadata": {
        "id": "s1Zs4CAp3qHf",
        "colab_type": "code",
        "colab": {}
      },
      "source": [
        "def sensitivity(query,n_entries):\n",
        "    db, pdbs = create_db_and_parallels(n_entries)\n",
        "    \n",
        "    full_db_result = query(db)\n",
        "    \n",
        "    \n",
        "    max_distance = 0\n",
        "    for pdb in pdbs:\n",
        "        pdb_result = query(pdb)\n",
        "\n",
        "        db_distance = torch.abs(pdb_result - full_db_result)\n",
        "\n",
        "        if(db_distance > max_distance):\n",
        "            max_distance = db_distance\n",
        "    return max_distance"
      ],
      "execution_count": 0,
      "outputs": []
    },
    {
      "cell_type": "code",
      "metadata": {
        "id": "jEvFGJWs4NQX",
        "colab_type": "code",
        "outputId": "e6248c8d-d402-4dca-f2f4-a7c62e3dc723",
        "colab": {
          "base_uri": "https://localhost:8080/",
          "height": 34
        }
      },
      "source": [
        "sensitivity(query_mean,5000)"
      ],
      "execution_count": 12,
      "outputs": [
        {
          "output_type": "execute_result",
          "data": {
            "text/plain": [
              "tensor(0.0001)"
            ]
          },
          "metadata": {
            "tags": []
          },
          "execution_count": 12
        }
      ]
    },
    {
      "cell_type": "markdown",
      "metadata": {
        "id": "htoRQUu_P5Kw",
        "colab_type": "text"
      },
      "source": [
        "### Performing a diffferentiation attack"
      ]
    },
    {
      "cell_type": "markdown",
      "metadata": {
        "id": "WUh6lTvEQEKd",
        "colab_type": "text"
      },
      "source": [
        "To do so:\n",
        "1. query the database \n",
        "2. query database without John Doe"
      ]
    },
    {
      "cell_type": "code",
      "metadata": {
        "id": "RKkBevPQQcdz",
        "colab_type": "code",
        "colab": {}
      },
      "source": [
        "db,without_john_doe = create_db_and_parallels(100)"
      ],
      "execution_count": 0,
      "outputs": []
    },
    {
      "cell_type": "markdown",
      "metadata": {
        "id": "SnmXRwKHTWf8",
        "colab_type": "text"
      },
      "source": [
        "Let's query using sum"
      ]
    },
    {
      "cell_type": "code",
      "metadata": {
        "id": "fumpI_ybTU9E",
        "colab_type": "code",
        "outputId": "847b825c-35fb-4363-deb1-a3ae728daa22",
        "colab": {
          "base_uri": "https://localhost:8080/",
          "height": 34
        }
      },
      "source": [
        "query_sum(db)-query_sum(without_john_doe[10])"
      ],
      "execution_count": 14,
      "outputs": [
        {
          "output_type": "execute_result",
          "data": {
            "text/plain": [
              "tensor(1.)"
            ]
          },
          "metadata": {
            "tags": []
          },
          "execution_count": 14
        }
      ]
    },
    {
      "cell_type": "markdown",
      "metadata": {
        "id": "MRhsXTMAU6Z3",
        "colab_type": "text"
      },
      "source": [
        "Let's query using mean"
      ]
    },
    {
      "cell_type": "code",
      "metadata": {
        "colab_type": "code",
        "outputId": "22c63a70-2e7b-4da4-90d1-ea1477678d71",
        "id": "hGG8C5oZU215",
        "colab": {
          "base_uri": "https://localhost:8080/",
          "height": 34
        }
      },
      "source": [
        "(query_mean(db)/len(db))-(query_mean(without_john_doe[10])/len(without_john_doe[10]))"
      ],
      "execution_count": 15,
      "outputs": [
        {
          "output_type": "execute_result",
          "data": {
            "text/plain": [
              "tensor(-3.5507e-06)"
            ]
          },
          "metadata": {
            "tags": []
          },
          "execution_count": 15
        }
      ]
    },
    {
      "cell_type": "markdown",
      "metadata": {
        "colab_type": "text",
        "id": "ahxOhcd-VTNL"
      },
      "source": [
        "Let's query using L1"
      ]
    },
    {
      "cell_type": "code",
      "metadata": {
        "colab_type": "code",
        "outputId": "60181b38-2803-4d89-b7fe-5a9589baf406",
        "id": "G0COcRz-VTNP",
        "colab": {
          "base_uri": "https://localhost:8080/",
          "height": 34
        }
      },
      "source": [
        "(query_threshold(db)>2499) - (query_threshold(without_john_doe[10])>2499)"
      ],
      "execution_count": 16,
      "outputs": [
        {
          "output_type": "execute_result",
          "data": {
            "text/plain": [
              "tensor(0, dtype=torch.uint8)"
            ]
          },
          "metadata": {
            "tags": []
          },
          "execution_count": 16
        }
      ]
    },
    {
      "cell_type": "markdown",
      "metadata": {
        "id": "tZ85qc8a0NEJ",
        "colab_type": "text"
      },
      "source": [
        "### Local diffierential privacy"
      ]
    },
    {
      "cell_type": "markdown",
      "metadata": {
        "colab_type": "text",
        "id": "UE7t7kGNVTNh"
      },
      "source": [
        "It involves adding noise before query is done. Create a randomized response function which returns the local diffencial privacy"
      ]
    },
    {
      "cell_type": "code",
      "metadata": {
        "id": "TMfhpbvNODZS",
        "colab_type": "code",
        "colab": {}
      },
      "source": [
        "def random_response_query(db,noise_parameter=0.2):\n",
        "  \n",
        "  true_result = torch.mean(db.float())\n",
        "  \n",
        "  first_coin_flip = (torch.rand(len(db))>noise_parameter).float()\n",
        "                    \n",
        "  second_coin_flip = (torch.rand(len(db))>0.5).float()\n",
        "                      \n",
        "  augmented_database = db.float()*first_coin_flip+(1-first_coin_flip)*second_coin_flip\n",
        "                      \n",
        "  \n",
        "  sk_result = augmented_database.float().mean()\n",
        "  \n",
        "  private_result = ((sk_result/noise_parameter)*noise_parameter/(1-noise_parameter))\n",
        "                      \n",
        "  return true_result,private_result"
      ],
      "execution_count": 0,
      "outputs": []
    },
    {
      "cell_type": "code",
      "metadata": {
        "id": "Xfn5Rx7L1zRN",
        "colab_type": "code",
        "outputId": "3db6ee3e-afb2-43bb-f1f0-f69e1571a3ff",
        "colab": {
          "base_uri": "https://localhost:8080/",
          "height": 158
        }
      },
      "source": [
        "for n in [0.1,0.2,0.3,0.4,0.5,0.6,0.7,0.8]:\n",
        "    db, pdbs = create_db_and_parallels(1000)\n",
        "    print(random_response_query(db,n))"
      ],
      "execution_count": 18,
      "outputs": [
        {
          "output_type": "stream",
          "text": [
            "(tensor(0.4800), tensor(0.5311))\n",
            "(tensor(0.4670), tensor(0.5962))\n",
            "(tensor(0.4860), tensor(0.7257))\n",
            "(tensor(0.5100), tensor(0.8350))\n",
            "(tensor(0.4780), tensor(0.9540))\n",
            "(tensor(0.4900), tensor(1.2475))\n",
            "(tensor(0.4820), tensor(1.7033))\n",
            "(tensor(0.5240), tensor(2.5450))\n"
          ],
          "name": "stdout"
        }
      ]
    },
    {
      "cell_type": "markdown",
      "metadata": {
        "id": "p8jAJavBj_9n",
        "colab_type": "text"
      },
      "source": [
        "### Global differential privacy"
      ]
    },
    {
      "cell_type": "markdown",
      "metadata": {
        "id": "4iCXM-gjkMhT",
        "colab_type": "text"
      },
      "source": [
        "Adding noise after a query"
      ]
    },
    {
      "cell_type": "code",
      "metadata": {
        "id": "Dkb4E23Ragxz",
        "colab_type": "code",
        "colab": {}
      },
      "source": [
        "import numpy as np"
      ],
      "execution_count": 0,
      "outputs": []
    },
    {
      "cell_type": "code",
      "metadata": {
        "id": "7vWU9SN3T6-c",
        "colab_type": "code",
        "colab": {}
      },
      "source": [
        "\n",
        "def global_diff_query(query,n_entries,epsilon=0.2):\n",
        "  \n",
        "  b  = sensitivity(query,n_entries)/epsilon\n",
        "  \n",
        "  #using laplace noise\n",
        "  return np.random.laplace(b)"
      ],
      "execution_count": 0,
      "outputs": []
    },
    {
      "cell_type": "code",
      "metadata": {
        "id": "G-kjZdhhatDI",
        "colab_type": "code",
        "colab": {}
      },
      "source": [
        "db,_ = create_db_and_parallels(5000)"
      ],
      "execution_count": 0,
      "outputs": []
    },
    {
      "cell_type": "code",
      "metadata": {
        "colab_type": "code",
        "id": "2V7mneCebK9g",
        "outputId": "69f6e08f-3413-4091-c2f1-65011e32abeb",
        "colab": {
          "base_uri": "https://localhost:8080/",
          "height": 34
        }
      },
      "source": [
        "def query_mean_M(db):\n",
        "    \n",
        "    return db.float().mean()+global_diff_query(query_mean,len(db))\n",
        "\n",
        "query_mean_M(db)"
      ],
      "execution_count": 22,
      "outputs": [
        {
          "output_type": "execute_result",
          "data": {
            "text/plain": [
              "tensor(0.9642)"
            ]
          },
          "metadata": {
            "tags": []
          },
          "execution_count": 22
        }
      ]
    },
    {
      "cell_type": "code",
      "metadata": {
        "id": "pHTEseONcD7w",
        "colab_type": "code",
        "outputId": "6e6934e7-c27c-4f2e-ef99-ac479b756cdf",
        "colab": {
          "base_uri": "https://localhost:8080/",
          "height": 34
        }
      },
      "source": [
        "\n",
        "def query_sum_M(db):\n",
        "  \n",
        "  return db.float().sum()+global_diff_query(query_sum,len(db))\n",
        "\n",
        "query_sum_M(db)"
      ],
      "execution_count": 23,
      "outputs": [
        {
          "output_type": "execute_result",
          "data": {
            "text/plain": [
              "tensor(2518.3040)"
            ]
          },
          "metadata": {
            "tags": []
          },
          "execution_count": 23
        }
      ]
    },
    {
      "cell_type": "markdown",
      "metadata": {
        "id": "m2H-8T2cMMQN",
        "colab_type": "text"
      },
      "source": [
        "## Differential Privacy in deep learning\n",
        "\n",
        "Say we have want to predict data for our hospital using data from other 10 hospitals. We will train data from each hospital and assemble the predictions."
      ]
    },
    {
      "cell_type": "code",
      "metadata": {
        "id": "OUvIM8M1MLev",
        "colab_type": "code",
        "colab": {}
      },
      "source": [
        "num_records = 10000 #data points\n",
        "num_teachers = 10 #number of hospitals, our teachers for our model\n",
        "num_labels = 10 #labels of our predictions"
      ],
      "execution_count": 0,
      "outputs": []
    },
    {
      "cell_type": "markdown",
      "metadata": {
        "id": "rSthiRzgNWPQ",
        "colab_type": "text"
      },
      "source": [
        "Let's get all the predictions from our teachers"
      ]
    },
    {
      "cell_type": "code",
      "metadata": {
        "id": "X3ikPMOYNUp0",
        "colab_type": "code",
        "colab": {}
      },
      "source": [
        "predictions = (np.random.rand(num_teachers,num_records)*num_labels).astype(int).transpose(1,0)"
      ],
      "execution_count": 0,
      "outputs": []
    },
    {
      "cell_type": "markdown",
      "metadata": {
        "id": "QfJUXtlnOgvJ",
        "colab_type": "text"
      },
      "source": [
        "We have to vote to decide our predictions so as to get the our predicted value\n",
        "\n"
      ]
    },
    {
      "cell_type": "code",
      "metadata": {
        "id": "Jn4DBI-_Q3O8",
        "colab_type": "code",
        "colab": {}
      },
      "source": [
        "new_labels = []\n",
        "for prediction in predictions:\n",
        "  #get the bin counts\n",
        "  bin_counts = np.bincount(prediction,minlength=num_labels)\n",
        "  \n",
        "  #Let us add some Laplacian noise to make it differentially private\n",
        "  epsilon = 0.1\n",
        "  \n",
        "  beta = 1/epsilon\n",
        "  \n",
        "  for i in range(len(bin_counts)):\n",
        "    bin_counts[i] += np.random.laplace(0,beta,1)\n",
        "  \n",
        "  #get the most voted for value\n",
        "  new_label = np.argmax(bin_counts)\n",
        "  \n",
        "  new_labels.append(new_label)"
      ],
      "execution_count": 0,
      "outputs": []
    }
  ]
}
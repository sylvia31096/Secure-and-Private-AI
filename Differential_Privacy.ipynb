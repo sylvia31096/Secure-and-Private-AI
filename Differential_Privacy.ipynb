{
  "nbformat": 4,
  "nbformat_minor": 0,
  "metadata": {
    "colab": {
      "name": "Differential Privacy.ipynb",
      "version": "0.3.2",
      "provenance": [],
      "collapsed_sections": [],
      "include_colab_link": true
    },
    "kernelspec": {
      "name": "python3",
      "display_name": "Python 3"
    }
  },
  "cells": [
    {
      "cell_type": "markdown",
      "metadata": {
        "id": "view-in-github",
        "colab_type": "text"
      },
      "source": [
        "<a href=\"https://colab.research.google.com/github/sylvia31096/Secure-and-Private-AI/blob/master/Differential_Privacy.ipynb\" target=\"_parent\"><img src=\"https://colab.research.google.com/assets/colab-badge.svg\" alt=\"Open In Colab\"/></a>"
      ]
    },
    {
      "cell_type": "markdown",
      "metadata": {
        "id": "ryrrXpXX1Rwp",
        "colab_type": "text"
      },
      "source": [
        "Creating my own private database"
      ]
    },
    {
      "cell_type": "code",
      "metadata": {
        "id": "lO974sHSatal",
        "colab_type": "code",
        "colab": {}
      },
      "source": [
        "import torch"
      ],
      "execution_count": 0,
      "outputs": []
    },
    {
      "cell_type": "code",
      "metadata": {
        "id": "sxZF6LsIbQ3d",
        "colab_type": "code",
        "colab": {}
      },
      "source": [
        "num_records = 5000 #number of 5000 records"
      ],
      "execution_count": 0,
      "outputs": []
    },
    {
      "cell_type": "markdown",
      "metadata": {
        "id": "bOAV5opaamdE",
        "colab_type": "text"
      },
      "source": [
        "Create a function to create the database and parallel databases"
      ]
    },
    {
      "cell_type": "code",
      "metadata": {
        "id": "WEfHQOTC3FqJ",
        "colab_type": "code",
        "colab": {}
      },
      "source": [
        " def get_parallelDB(db,removable_index):\n",
        "\n",
        "    return torch.cat((db[0:removable_index],db[removable_index+1:]))"
      ],
      "execution_count": 0,
      "outputs": []
    },
    {
      "cell_type": "markdown",
      "metadata": {
        "id": "HapW8OPl3SJi",
        "colab_type": "text"
      },
      "source": [
        "Create function to make a parallel database"
      ]
    },
    {
      "cell_type": "code",
      "metadata": {
        "id": "2nkpIPCY3F6b",
        "colab_type": "code",
        "colab": {}
      },
      "source": [
        "def get_parallelDBs(db):\n",
        "\n",
        "    parallelDBs = []\n",
        "    for i in range(len(db)):\n",
        "      parallelDB = get_parallelDB(db,i)\n",
        "      parallelDBs.append(parallelDB)\n",
        "\n",
        "\n",
        "    return parallelDBs"
      ],
      "execution_count": 0,
      "outputs": []
    },
    {
      "cell_type": "code",
      "metadata": {
        "id": "hUwh69BhfUvD",
        "colab_type": "code",
        "colab": {}
      },
      "source": [
        "def create_db_and_parallels(num_records):\n",
        "  db = torch.rand(num_records)>0.5\n",
        "  parallelDBs =  get_parallelDBs(db)\n",
        "  \n",
        "  return db,parallelDBs"
      ],
      "execution_count": 0,
      "outputs": []
    },
    {
      "cell_type": "markdown",
      "metadata": {
        "id": "_sGAJ8VX0TUy",
        "colab_type": "text"
      },
      "source": [
        "## Evaluating differential privacy"
      ]
    },
    {
      "cell_type": "markdown",
      "metadata": {
        "id": "U25L0nAb2_I4",
        "colab_type": "text"
      },
      "source": [
        "Getting sensitivty"
      ]
    },
    {
      "cell_type": "code",
      "metadata": {
        "id": "01oBy_E90hRR",
        "colab_type": "code",
        "colab": {}
      },
      "source": [
        "db, pdbs = create_db_and_parallels(5000)"
      ],
      "execution_count": 0,
      "outputs": []
    },
    {
      "cell_type": "code",
      "metadata": {
        "id": "NFvaqNt81E1E",
        "colab_type": "code",
        "colab": {}
      },
      "source": [
        "def query(db):\n",
        "    return db.float().mean()"
      ],
      "execution_count": 0,
      "outputs": []
    },
    {
      "cell_type": "code",
      "metadata": {
        "id": "pYc53Rt21HX6",
        "colab_type": "code",
        "colab": {}
      },
      "source": [
        "full_db_result = query(db)"
      ],
      "execution_count": 0,
      "outputs": []
    },
    {
      "cell_type": "code",
      "metadata": {
        "id": "V4_TVjmj1MM8",
        "colab_type": "code",
        "colab": {}
      },
      "source": [
        "sensitivity = 0\n",
        "for pdb in pdbs:\n",
        "    pdb_result = query(pdb)\n",
        "    \n",
        "    db_distance = torch.abs(pdb_result - full_db_result)\n",
        "    \n",
        "    if(db_distance > sensitivity):\n",
        "        sensitivity = db_distance"
      ],
      "execution_count": 0,
      "outputs": []
    },
    {
      "cell_type": "code",
      "metadata": {
        "id": "FPpqCJQ_26AB",
        "colab_type": "code",
        "colab": {
          "base_uri": "https://localhost:8080/",
          "height": 34
        },
        "outputId": "95a5c361-4c3b-49c4-aea0-d077818dc1ac"
      },
      "source": [
        "sensitivity"
      ],
      "execution_count": 29,
      "outputs": [
        {
          "output_type": "execute_result",
          "data": {
            "text/plain": [
              "tensor(1)"
            ]
          },
          "metadata": {
            "tags": []
          },
          "execution_count": 29
        }
      ]
    },
    {
      "cell_type": "markdown",
      "metadata": {
        "id": "QvGGK9_p3k7w",
        "colab_type": "text"
      },
      "source": [
        "Sensitivity function"
      ]
    },
    {
      "cell_type": "code",
      "metadata": {
        "id": "s1Zs4CAp3qHf",
        "colab_type": "code",
        "colab": {}
      },
      "source": [
        "def sensitivity(query,n_entries):\n",
        "    db, pdbs = create_db_and_parallels(n_entries)\n",
        "    \n",
        "    full_db_result = query(db)\n",
        "    \n",
        "    \n",
        "    max_distance = 0\n",
        "    for pdb in pdbs:\n",
        "        pdb_result = query(pdb)\n",
        "\n",
        "        db_distance = torch.abs(pdb_result - full_db_result)\n",
        "\n",
        "        if(db_distance > max_distance):\n",
        "            max_distance = db_distance\n",
        "    return max_distance"
      ],
      "execution_count": 0,
      "outputs": []
    },
    {
      "cell_type": "code",
      "metadata": {
        "id": "IwYjxSDT7rhC",
        "colab_type": "code",
        "colab": {}
      },
      "source": [
        "def query(db,threshold=5):\n",
        "  return (db.sum()>threshold).float()"
      ],
      "execution_count": 0,
      "outputs": []
    },
    {
      "cell_type": "code",
      "metadata": {
        "id": "jEvFGJWs4NQX",
        "colab_type": "code",
        "colab": {
          "base_uri": "https://localhost:8080/",
          "height": 34
        },
        "outputId": "28f230fe-414b-4cce-f48a-7b1f46e63e2a"
      },
      "source": [
        "sensitivity(query,5000)"
      ],
      "execution_count": 37,
      "outputs": [
        {
          "output_type": "execute_result",
          "data": {
            "text/plain": [
              "tensor(0.0001)"
            ]
          },
          "metadata": {
            "tags": []
          },
          "execution_count": 37
        }
      ]
    },
    {
      "cell_type": "code",
      "metadata": {
        "id": "Hr1qB7va7Dzd",
        "colab_type": "code",
        "colab": {
          "base_uri": "https://localhost:8080/",
          "height": 194
        },
        "outputId": "21f9d8f2-6de9-493e-8a55-17f090e5f088"
      },
      "source": [
        "for i in range (10):\n",
        "  print(sensitivity(query,10))"
      ],
      "execution_count": 46,
      "outputs": [
        {
          "output_type": "stream",
          "text": [
            "0\n",
            "0\n",
            "0\n",
            "0\n",
            "tensor(1.)\n",
            "0\n",
            "0\n",
            "tensor(1.)\n",
            "0\n",
            "0\n"
          ],
          "name": "stdout"
        }
      ]
    }
  ]
}
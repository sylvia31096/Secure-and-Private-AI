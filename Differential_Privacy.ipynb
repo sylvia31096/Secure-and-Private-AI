{
  "nbformat": 4,
  "nbformat_minor": 0,
  "metadata": {
    "colab": {
      "name": "Differential Privacy.ipynb",
      "version": "0.3.2",
      "provenance": [],
      "collapsed_sections": [],
      "include_colab_link": true
    },
    "kernelspec": {
      "name": "python3",
      "display_name": "Python 3"
    }
  },
  "cells": [
    {
      "cell_type": "markdown",
      "metadata": {
        "id": "view-in-github",
        "colab_type": "text"
      },
      "source": [
        "<a href=\"https://colab.research.google.com/github/sylvia31096/Secure-and-Private-AI/blob/master/Differential_Privacy.ipynb\" target=\"_parent\"><img src=\"https://colab.research.google.com/assets/colab-badge.svg\" alt=\"Open In Colab\"/></a>"
      ]
    },
    {
      "cell_type": "code",
      "metadata": {
        "id": "lO974sHSatal",
        "colab_type": "code",
        "colab": {}
      },
      "source": [
        "import torch"
      ],
      "execution_count": 0,
      "outputs": []
    },
    {
      "cell_type": "markdown",
      "metadata": {
        "id": "GEOp5XkQfKcE",
        "colab_type": "text"
      },
      "source": [
        "### Private dataset"
      ]
    },
    {
      "cell_type": "markdown",
      "metadata": {
        "id": "ryrrXpXX1Rwp",
        "colab_type": "text"
      },
      "source": [
        "Creating my own private database. Each record represent a different person with a value of 1 or 0"
      ]
    },
    {
      "cell_type": "code",
      "metadata": {
        "id": "sxZF6LsIbQ3d",
        "colab_type": "code",
        "colab": {}
      },
      "source": [
        "num_records = 5000 #number of 5000 records"
      ],
      "execution_count": 0,
      "outputs": []
    },
    {
      "cell_type": "markdown",
      "metadata": {
        "id": "d7lk_vWafcai",
        "colab_type": "text"
      },
      "source": [
        "For every person we will get a database without them"
      ]
    },
    {
      "cell_type": "markdown",
      "metadata": {
        "id": "bOAV5opaamdE",
        "colab_type": "text"
      },
      "source": [
        "Create a function to create the database and parallel databases"
      ]
    },
    {
      "cell_type": "code",
      "metadata": {
        "id": "WEfHQOTC3FqJ",
        "colab_type": "code",
        "colab": {}
      },
      "source": [
        " def get_parallelDB(db,removable_index):\n",
        "\n",
        "    return torch.cat((db[0:removable_index],db[removable_index+1:]))"
      ],
      "execution_count": 0,
      "outputs": []
    },
    {
      "cell_type": "markdown",
      "metadata": {
        "id": "HapW8OPl3SJi",
        "colab_type": "text"
      },
      "source": [
        "Create function to make a parallel database"
      ]
    },
    {
      "cell_type": "code",
      "metadata": {
        "id": "2nkpIPCY3F6b",
        "colab_type": "code",
        "colab": {}
      },
      "source": [
        "def get_parallelDBs(db):\n",
        "\n",
        "    parallelDBs = []\n",
        "    for i in range(len(db)):\n",
        "      parallelDB = get_parallelDB(db,i)\n",
        "      parallelDBs.append(parallelDB)\n",
        "\n",
        "\n",
        "    return parallelDBs"
      ],
      "execution_count": 0,
      "outputs": []
    },
    {
      "cell_type": "markdown",
      "metadata": {
        "id": "XMRo1D69fvJZ",
        "colab_type": "text"
      },
      "source": [
        "Create function that creates both a database and it's parallel database"
      ]
    },
    {
      "cell_type": "code",
      "metadata": {
        "id": "hUwh69BhfUvD",
        "colab_type": "code",
        "colab": {}
      },
      "source": [
        "def create_db_and_parallels(num_records):\n",
        "  db = torch.rand(num_records)>0.5\n",
        "  parallelDBs =  get_parallelDBs(db)\n",
        "  \n",
        "  return db,parallelDBs"
      ],
      "execution_count": 0,
      "outputs": []
    },
    {
      "cell_type": "markdown",
      "metadata": {
        "id": "_sGAJ8VX0TUy",
        "colab_type": "text"
      },
      "source": [
        "## Evaluating differential privacy"
      ]
    },
    {
      "cell_type": "markdown",
      "metadata": {
        "id": "U25L0nAb2_I4",
        "colab_type": "text"
      },
      "source": [
        "\n",
        "Getting sensitivty : The change when a single record is removed"
      ]
    },
    {
      "cell_type": "markdown",
      "metadata": {
        "id": "NsbMdgjYgYN_",
        "colab_type": "text"
      },
      "source": [
        "Create the databases and their parallel databases"
      ]
    },
    {
      "cell_type": "code",
      "metadata": {
        "id": "01oBy_E90hRR",
        "colab_type": "code",
        "colab": {}
      },
      "source": [
        "db, pdbs = create_db_and_parallels(5000)"
      ],
      "execution_count": 0,
      "outputs": []
    },
    {
      "cell_type": "markdown",
      "metadata": {
        "id": "16Q3ussKgj7j",
        "colab_type": "text"
      },
      "source": [
        "Create query function"
      ]
    },
    {
      "cell_type": "code",
      "metadata": {
        "id": "NFvaqNt81E1E",
        "colab_type": "code",
        "colab": {}
      },
      "source": [
        "#query mean of database\n",
        "def query_mean(db):\n",
        "    return db.float().mean()"
      ],
      "execution_count": 0,
      "outputs": []
    },
    {
      "cell_type": "code",
      "metadata": {
        "id": "V0acka14gySg",
        "colab_type": "code",
        "colab": {}
      },
      "source": [
        "#uery records that reach threshold\n",
        "def query_threshold(db,threshold=5):\n",
        "  return (db.sum()>threshold).float()\n"
      ],
      "execution_count": 0,
      "outputs": []
    },
    {
      "cell_type": "code",
      "metadata": {
        "id": "IwYjxSDT7rhC",
        "colab_type": "code",
        "colab": {}
      },
      "source": [
        "#query mean of database records\n",
        "def query_sum(db):\n",
        "  return db.float().sum()"
      ],
      "execution_count": 0,
      "outputs": []
    },
    {
      "cell_type": "code",
      "metadata": {
        "id": "pYc53Rt21HX6",
        "colab_type": "code",
        "colab": {}
      },
      "source": [
        "full_db_result = query_sum(db)"
      ],
      "execution_count": 0,
      "outputs": []
    },
    {
      "cell_type": "markdown",
      "metadata": {
        "id": "uULlMashhEsA",
        "colab_type": "text"
      },
      "source": [
        "Sensitivity function that gets the sensitivity given a query function and number of records"
      ]
    },
    {
      "cell_type": "code",
      "metadata": {
        "id": "s1Zs4CAp3qHf",
        "colab_type": "code",
        "colab": {}
      },
      "source": [
        "def sensitivity(query,n_entries):\n",
        "    db, pdbs = create_db_and_parallels(n_entries)\n",
        "    \n",
        "    full_db_result = query(db)\n",
        "    \n",
        "    \n",
        "    max_distance = 0\n",
        "    for pdb in pdbs:\n",
        "        pdb_result = query(pdb)\n",
        "\n",
        "        db_distance = torch.abs(pdb_result - full_db_result)\n",
        "\n",
        "        if(db_distance > max_distance):\n",
        "            max_distance = db_distance\n",
        "    return max_distance"
      ],
      "execution_count": 0,
      "outputs": []
    },
    {
      "cell_type": "code",
      "metadata": {
        "id": "jEvFGJWs4NQX",
        "colab_type": "code",
        "outputId": "ad6b8219-1f81-4987-daa6-a9a4c194de3f",
        "colab": {
          "base_uri": "https://localhost:8080/",
          "height": 34
        }
      },
      "source": [
        "sensitivity(query_mean,5000)"
      ],
      "execution_count": 22,
      "outputs": [
        {
          "output_type": "execute_result",
          "data": {
            "text/plain": [
              "tensor(0.0001)"
            ]
          },
          "metadata": {
            "tags": []
          },
          "execution_count": 22
        }
      ]
    },
    {
      "cell_type": "markdown",
      "metadata": {
        "id": "htoRQUu_P5Kw",
        "colab_type": "text"
      },
      "source": [
        "### Performing a diffferentiation attack"
      ]
    },
    {
      "cell_type": "markdown",
      "metadata": {
        "id": "WUh6lTvEQEKd",
        "colab_type": "text"
      },
      "source": [
        "To do so:\n",
        "1. query the database \n",
        "2. query database without John Doe"
      ]
    },
    {
      "cell_type": "code",
      "metadata": {
        "id": "RKkBevPQQcdz",
        "colab_type": "code",
        "colab": {}
      },
      "source": [
        "db,without_john_doe = create_db_and_parallels(100)"
      ],
      "execution_count": 0,
      "outputs": []
    },
    {
      "cell_type": "markdown",
      "metadata": {
        "id": "SnmXRwKHTWf8",
        "colab_type": "text"
      },
      "source": [
        "Let's query using sum"
      ]
    },
    {
      "cell_type": "code",
      "metadata": {
        "id": "fumpI_ybTU9E",
        "colab_type": "code",
        "outputId": "0888b51e-9f77-4ae1-f7be-5b6fa4a9bad2",
        "colab": {
          "base_uri": "https://localhost:8080/",
          "height": 34
        }
      },
      "source": [
        "query_sum(db)-query_sum(without_john_doe[10])"
      ],
      "execution_count": 59,
      "outputs": [
        {
          "output_type": "execute_result",
          "data": {
            "text/plain": [
              "tensor(0.)"
            ]
          },
          "metadata": {
            "tags": []
          },
          "execution_count": 59
        }
      ]
    },
    {
      "cell_type": "markdown",
      "metadata": {
        "id": "MRhsXTMAU6Z3",
        "colab_type": "text"
      },
      "source": [
        "Let's query using mean"
      ]
    },
    {
      "cell_type": "code",
      "metadata": {
        "colab_type": "code",
        "outputId": "92f12b62-9b59-4625-9068-d48caca6d718",
        "id": "hGG8C5oZU215",
        "colab": {
          "base_uri": "https://localhost:8080/",
          "height": 34
        }
      },
      "source": [
        "(query_mean(db)/len(db))-(query_mean(without_john_doe[10])/len(without_john_doe[10]))"
      ],
      "execution_count": 63,
      "outputs": [
        {
          "output_type": "execute_result",
          "data": {
            "text/plain": [
              "tensor(-9.5429e-05)"
            ]
          },
          "metadata": {
            "tags": []
          },
          "execution_count": 63
        }
      ]
    },
    {
      "cell_type": "markdown",
      "metadata": {
        "colab_type": "text",
        "id": "ahxOhcd-VTNL"
      },
      "source": [
        "Let's query using L1"
      ]
    },
    {
      "cell_type": "code",
      "metadata": {
        "colab_type": "code",
        "outputId": "a03c597d-60f2-42fb-d8a3-409606b02bc7",
        "id": "G0COcRz-VTNP",
        "colab": {
          "base_uri": "https://localhost:8080/",
          "height": 34
        }
      },
      "source": [
        "(query_threshold(db)>2499) - (query_threshold(without_john_doe[10])>2499)"
      ],
      "execution_count": 64,
      "outputs": [
        {
          "output_type": "execute_result",
          "data": {
            "text/plain": [
              "tensor(0, dtype=torch.uint8)"
            ]
          },
          "metadata": {
            "tags": []
          },
          "execution_count": 64
        }
      ]
    },
    {
      "cell_type": "markdown",
      "metadata": {
        "id": "tZ85qc8a0NEJ",
        "colab_type": "text"
      },
      "source": [
        "### Local diffierential privacy"
      ]
    },
    {
      "cell_type": "markdown",
      "metadata": {
        "colab_type": "text",
        "id": "UE7t7kGNVTNh"
      },
      "source": [
        "It involves adding noise before query is done. Create a randomized response function which returns the local diffencial privacy"
      ]
    },
    {
      "cell_type": "code",
      "metadata": {
        "id": "TMfhpbvNODZS",
        "colab_type": "code",
        "colab": {}
      },
      "source": [
        "def random_response_query(db,noise_parameter=0.2):\n",
        "  \n",
        "  true_result = torch.mean(db.float())\n",
        "  \n",
        "  first_coin_flip = (torch.rand(len(db))>noise_parameter).float()\n",
        "                    \n",
        "  second_coin_flip = (torch.rand(len(db))>0.5).float()\n",
        "                      \n",
        "  augmented_database = db.float()*first_coin_flip+(1-first_coin_flip)*second_coin_flip\n",
        "                      \n",
        "  \n",
        "  sk_result = augmented_database.float().mean()\n",
        "  \n",
        "  private_result = ((sk_result/noise_parameter)*noise_parameter/(1-noise_parameter))\n",
        "                      \n",
        "  return true_result,private_result"
      ],
      "execution_count": 0,
      "outputs": []
    },
    {
      "cell_type": "code",
      "metadata": {
        "id": "Xfn5Rx7L1zRN",
        "colab_type": "code",
        "colab": {
          "base_uri": "https://localhost:8080/",
          "height": 158
        },
        "outputId": "3f3ef8d3-e6b1-4295-d62f-0f345fc227c1"
      },
      "source": [
        "for n in [0.1,0.2,0.3,0.4,0.5,0.6,0.7,0.8]:\n",
        "    db, pdbs = create_db_and_parallels(1000)\n",
        "    print(random_response_query(db,n))"
      ],
      "execution_count": 33,
      "outputs": [
        {
          "output_type": "stream",
          "text": [
            "(tensor(0.4710), tensor(0.5244))\n",
            "(tensor(0.4650), tensor(0.5800))\n",
            "(tensor(0.5030), tensor(0.6857))\n",
            "(tensor(0.5050), tensor(0.8517))\n",
            "(tensor(0.5020), tensor(1.0420))\n",
            "(tensor(0.4710), tensor(1.2250))\n",
            "(tensor(0.4880), tensor(1.6667))\n",
            "(tensor(0.4800), tensor(2.4900))\n"
          ],
          "name": "stdout"
        }
      ]
    },
    {
      "cell_type": "markdown",
      "metadata": {
        "id": "p8jAJavBj_9n",
        "colab_type": "text"
      },
      "source": [
        "### Global differential privacy"
      ]
    },
    {
      "cell_type": "markdown",
      "metadata": {
        "id": "4iCXM-gjkMhT",
        "colab_type": "text"
      },
      "source": [
        "Adding noise after a query"
      ]
    },
    {
      "cell_type": "code",
      "metadata": {
        "id": "Dkb4E23Ragxz",
        "colab_type": "code",
        "colab": {}
      },
      "source": [
        "import numpy as np"
      ],
      "execution_count": 0,
      "outputs": []
    },
    {
      "cell_type": "code",
      "metadata": {
        "id": "7vWU9SN3T6-c",
        "colab_type": "code",
        "colab": {}
      },
      "source": [
        "\n",
        "def global_diff_query(query,n_entries,epsilon=0.2):\n",
        "  \n",
        "  b  = sensitivity(query,n_entries)/epsilon\n",
        "  \n",
        "  #using laplace noise\n",
        "  return np.random.laplace(b)"
      ],
      "execution_count": 0,
      "outputs": []
    },
    {
      "cell_type": "code",
      "metadata": {
        "id": "G-kjZdhhatDI",
        "colab_type": "code",
        "colab": {}
      },
      "source": [
        "db,_ = create_db_and_parallels(5000)"
      ],
      "execution_count": 0,
      "outputs": []
    },
    {
      "cell_type": "code",
      "metadata": {
        "colab_type": "code",
        "id": "2V7mneCebK9g",
        "colab": {
          "base_uri": "https://localhost:8080/",
          "height": 34
        },
        "outputId": "7d17a567-77c0-4084-df0f-2ff18b063b36"
      },
      "source": [
        "def query_mean_M(db):\n",
        "    \n",
        "    return db.float().mean()+global_diff_query(query_mean,len(db))\n",
        "\n",
        "query_mean_M(db)"
      ],
      "execution_count": 51,
      "outputs": [
        {
          "output_type": "execute_result",
          "data": {
            "text/plain": [
              "tensor(0.9681)"
            ]
          },
          "metadata": {
            "tags": []
          },
          "execution_count": 51
        }
      ]
    },
    {
      "cell_type": "code",
      "metadata": {
        "id": "pHTEseONcD7w",
        "colab_type": "code",
        "colab": {
          "base_uri": "https://localhost:8080/",
          "height": 34
        },
        "outputId": "4031d9ec-f3f7-4e11-db97-7db4c63b1717"
      },
      "source": [
        "\n",
        "def query_sum_M(db):\n",
        "  \n",
        "  return db.float().sum()+global_diff_query(query_sum,len(db))\n",
        "\n",
        "query_sum_M(db)"
      ],
      "execution_count": 52,
      "outputs": [
        {
          "output_type": "execute_result",
          "data": {
            "text/plain": [
              "tensor(2506.2495)"
            ]
          },
          "metadata": {
            "tags": []
          },
          "execution_count": 52
        }
      ]
    }
  ]
}
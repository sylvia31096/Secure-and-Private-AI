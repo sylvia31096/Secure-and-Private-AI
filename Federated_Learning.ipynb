{
  "nbformat": 4,
  "nbformat_minor": 0,
  "metadata": {
    "colab": {
      "name": "Federated Learning.ipynb",
      "version": "0.3.2",
      "provenance": [],
      "include_colab_link": true
    },
    "kernelspec": {
      "name": "python3",
      "display_name": "Python 3"
    }
  },
  "cells": [
    {
      "cell_type": "markdown",
      "metadata": {
        "id": "view-in-github",
        "colab_type": "text"
      },
      "source": [
        "<a href=\"https://colab.research.google.com/github/sylvia31096/Secure-and-Private-AI/blob/master/Federated_Learning.ipynb\" target=\"_parent\"><img src=\"https://colab.research.google.com/assets/colab-badge.svg\" alt=\"Open In Colab\"/></a>"
      ]
    },
    {
      "cell_type": "markdown",
      "metadata": {
        "id": "xWeRua8w-IYr",
        "colab_type": "text"
      },
      "source": [
        "# Federated Learning\n",
        "This is a form of ensuring privacy of data in machine learning by taking a model to where the data resides rather than collecting a data at a central point. "
      ]
    },
    {
      "cell_type": "markdown",
      "metadata": {
        "id": "PPfNtE7B_H_m",
        "colab_type": "text"
      },
      "source": [
        "### Introduction to pysyft\n",
        "This is an extension of deep learning toolkits that enables remote executions."
      ]
    },
    {
      "cell_type": "code",
      "metadata": {
        "id": "Vz6s7reBCvU1",
        "colab_type": "code",
        "colab": {}
      },
      "source": [
        "!pip install syft"
      ],
      "execution_count": 0,
      "outputs": []
    },
    {
      "cell_type": "code",
      "metadata": {
        "id": "b3vaUn4F_Fen",
        "colab_type": "code",
        "colab": {}
      },
      "source": [
        "import syft as sy\n",
        "import torch as th"
      ],
      "execution_count": 0,
      "outputs": []
    },
    {
      "cell_type": "markdown",
      "metadata": {
        "id": "5IcZ6couD8C7",
        "colab_type": "text"
      },
      "source": [
        "This modifies the torch library with new functionalities"
      ]
    },
    {
      "cell_type": "code",
      "metadata": {
        "id": "0SCQea5pDmHh",
        "colab_type": "code",
        "colab": {}
      },
      "source": [
        "hook = sy.TorchHook(th)"
      ],
      "execution_count": 0,
      "outputs": []
    },
    {
      "cell_type": "markdown",
      "metadata": {
        "id": "gRnQ7AhGDEez",
        "colab_type": "text"
      },
      "source": [
        "Syft uses an interface to other machines called a virtual worker"
      ]
    },
    {
      "cell_type": "code",
      "metadata": {
        "id": "eYTERpdUC46_",
        "colab_type": "code",
        "colab": {
          "base_uri": "https://localhost:8080/",
          "height": 34
        },
        "outputId": "6c277123-f364-4f1c-f152-778944c18296"
      },
      "source": [
        "bob = sy.VirtualWorker(hook, id=\"bob\")\n",
        "alice = sy.VirtualWorker(hook, id=\"alice\")\n",
        "bob._objects"
      ],
      "execution_count": 12,
      "outputs": [
        {
          "output_type": "execute_result",
          "data": {
            "text/plain": [
              "{}"
            ]
          },
          "metadata": {
            "tags": []
          },
          "execution_count": 12
        }
      ]
    },
    {
      "cell_type": "markdown",
      "metadata": {
        "id": "vGknos5eEHAM",
        "colab_type": "text"
      },
      "source": [
        "Let us create a tensor (I assume it resides on a remote machine)"
      ]
    },
    {
      "cell_type": "code",
      "metadata": {
        "id": "n6WMq09eEPWs",
        "colab_type": "code",
        "colab": {}
      },
      "source": [
        " x= th.tensor([1,2,3,4,5])"
      ],
      "execution_count": 0,
      "outputs": []
    },
    {
      "cell_type": "markdown",
      "metadata": {
        "id": "mtJ2rET0EZHU",
        "colab_type": "text"
      },
      "source": [
        "Send the tensor to Bob and Alice"
      ]
    },
    {
      "cell_type": "code",
      "metadata": {
        "id": "M2mQiM16EgXg",
        "colab_type": "code",
        "colab": {
          "base_uri": "https://localhost:8080/",
          "height": 34
        },
        "outputId": "61c50ac9-1d48-404e-b903-5a89160f8040"
      },
      "source": [
        "x =  x.send(bob,alice)\n",
        "bob._objects"
      ],
      "execution_count": 19,
      "outputs": [
        {
          "output_type": "execute_result",
          "data": {
            "text/plain": [
              "{25631043270: tensor([ 2,  4,  6,  8, 10])}"
            ]
          },
          "metadata": {
            "tags": []
          },
          "execution_count": 19
        }
      ]
    },
    {
      "cell_type": "code",
      "metadata": {
        "id": "RxFoC125FGe2",
        "colab_type": "code",
        "colab": {
          "base_uri": "https://localhost:8080/",
          "height": 70
        },
        "outputId": "3b972caf-b20d-4a41-c09c-f682b7bdc0cd"
      },
      "source": [
        "x #x is now a pointer to the remote object"
      ],
      "execution_count": 20,
      "outputs": [
        {
          "output_type": "execute_result",
          "data": {
            "text/plain": [
              "(Wrapper)>[MultiPointerTensor]\n",
              "\t-> (Wrapper)>[PointerTensor | me:82296667111 -> bob:25631043270]\n",
              "\t-> (Wrapper)>[PointerTensor | me:90700280016 -> alice:62212748174]"
            ]
          },
          "metadata": {
            "tags": []
          },
          "execution_count": 20
        }
      ]
    },
    {
      "cell_type": "markdown",
      "metadata": {
        "id": "Peo3wzFhFAej",
        "colab_type": "text"
      },
      "source": [
        "So now bob and alice will execute and return to us a pointer to the remote object"
      ]
    },
    {
      "cell_type": "markdown",
      "metadata": {
        "id": "Lt-xp6w2GPOl",
        "colab_type": "text"
      },
      "source": [
        "Let us perform a get where we get the information from Bob and Alice"
      ]
    },
    {
      "cell_type": "code",
      "metadata": {
        "id": "LBl8PW8TE_ve",
        "colab_type": "code",
        "colab": {
          "base_uri": "https://localhost:8080/",
          "height": 34
        },
        "outputId": "038ecd04-2548-45d6-bbb4-d83238899955"
      },
      "source": [
        "x = x.get(bob,alice)\n",
        "x  #interestingly this sums the two"
      ],
      "execution_count": 21,
      "outputs": [
        {
          "output_type": "execute_result",
          "data": {
            "text/plain": [
              "tensor([ 4,  8, 12, 16, 20])"
            ]
          },
          "metadata": {
            "tags": []
          },
          "execution_count": 21
        }
      ]
    },
    {
      "cell_type": "markdown",
      "metadata": {
        "id": "9jowdfvOGd2o",
        "colab_type": "text"
      },
      "source": [
        "X now has the information from Bob and Alice\n",
        "\n",
        "\n",
        "\n"
      ]
    },
    {
      "cell_type": "code",
      "metadata": {
        "id": "f2bukcKyGj7u",
        "colab_type": "code",
        "colab": {
          "base_uri": "https://localhost:8080/",
          "height": 34
        },
        "outputId": "981be7d1-4b72-4b0d-bfd0-97eaecaf914d"
      },
      "source": [
        "bob._objects"
      ],
      "execution_count": 22,
      "outputs": [
        {
          "output_type": "execute_result",
          "data": {
            "text/plain": [
              "{}"
            ]
          },
          "metadata": {
            "tags": []
          },
          "execution_count": 22
        }
      ]
    },
    {
      "cell_type": "code",
      "metadata": {
        "id": "KZQ9ox8cG6sN",
        "colab_type": "code",
        "colab": {
          "base_uri": "https://localhost:8080/",
          "height": 34
        },
        "outputId": "7179fdb9-8c57-4a5f-cfcc-dd33e55eb633"
      },
      "source": [
        "alice._objects"
      ],
      "execution_count": 24,
      "outputs": [
        {
          "output_type": "execute_result",
          "data": {
            "text/plain": [
              "{}"
            ]
          },
          "metadata": {
            "tags": []
          },
          "execution_count": 24
        }
      ]
    },
    {
      "cell_type": "markdown",
      "metadata": {
        "id": "6qSmFSXLIykm",
        "colab_type": "text"
      },
      "source": [
        "### Introducing remote arithmetic"
      ]
    },
    {
      "cell_type": "markdown",
      "metadata": {
        "id": "aSn3RjikJVvA",
        "colab_type": "text"
      },
      "source": [
        "Let us initialize some tensors and send to Bob to perform operations them. They must be sent to the same worker to allow operations"
      ]
    },
    {
      "cell_type": "code",
      "metadata": {
        "id": "jtuL_g6MJeIK",
        "colab_type": "code",
        "colab": {}
      },
      "source": [
        "x = th.tensor([1,2,3,4]).send(bob)\n",
        "\n",
        "y = th.tensor([2,3,4,5]).send(bob)"
      ],
      "execution_count": 0,
      "outputs": []
    },
    {
      "cell_type": "code",
      "metadata": {
        "id": "LGtZ4-3wKcdK",
        "colab_type": "code",
        "colab": {
          "base_uri": "https://localhost:8080/",
          "height": 34
        },
        "outputId": "e44b5f21-b581-47b5-e1e6-56c8c383c988"
      },
      "source": [
        "z = x + y\n",
        "z"
      ],
      "execution_count": 27,
      "outputs": [
        {
          "output_type": "execute_result",
          "data": {
            "text/plain": [
              "(Wrapper)>[PointerTensor | me:14998992119 -> bob:5998129447]"
            ]
          },
          "metadata": {
            "tags": []
          },
          "execution_count": 27
        }
      ]
    },
    {
      "cell_type": "code",
      "metadata": {
        "id": "j-I-xstdKiP2",
        "colab_type": "code",
        "colab": {}
      },
      "source": [
        "z = z.get()"
      ],
      "execution_count": 0,
      "outputs": []
    },
    {
      "cell_type": "code",
      "metadata": {
        "id": "IcmFizBQKn8f",
        "colab_type": "code",
        "colab": {
          "base_uri": "https://localhost:8080/",
          "height": 34
        },
        "outputId": "4affc14f-9c87-4e7f-9d4f-e0f4aedf7512"
      },
      "source": [
        "z"
      ],
      "execution_count": 29,
      "outputs": [
        {
          "output_type": "execute_result",
          "data": {
            "text/plain": [
              "tensor([3, 5, 7, 9])"
            ]
          },
          "metadata": {
            "tags": []
          },
          "execution_count": 29
        }
      ]
    },
    {
      "cell_type": "markdown",
      "metadata": {
        "id": "3EKivDDWKrB3",
        "colab_type": "text"
      },
      "source": [
        "It is actually the sum of x and y"
      ]
    },
    {
      "cell_type": "markdown",
      "metadata": {
        "id": "i4891sUpLXAa",
        "colab_type": "text"
      },
      "source": [
        "### Learn a simple linear model"
      ]
    },
    {
      "cell_type": "code",
      "metadata": {
        "id": "NvUR3a-oLpbS",
        "colab_type": "code",
        "colab": {}
      },
      "source": [
        ""
      ],
      "execution_count": 0,
      "outputs": []
    }
  ]
}